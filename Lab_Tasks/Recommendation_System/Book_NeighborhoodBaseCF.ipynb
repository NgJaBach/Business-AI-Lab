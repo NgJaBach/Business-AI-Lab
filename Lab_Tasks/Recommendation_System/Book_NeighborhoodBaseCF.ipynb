{
 "cells": [
  {
   "cell_type": "code",
   "execution_count": 6,
   "metadata": {},
   "outputs": [],
   "source": [
    "import pandas as pd\n",
    "import numpy as np\n",
    "from sklearn.metrics.pairwise import cosine_similarity\n",
    "from scipy import sparse\n",
    "\n",
    "class uuCF(object):\n",
    "    def __init__(self, Y_data, k, sim_func = cosine_similarity):\n",
    "        self.Y_data = Y_data # a 2d array of shape (n_users, 3)\n",
    "                    # each row of Y_data has form [user_id, item_id, rating]\n",
    "        self.k = k # number of neighborhood\n",
    "        self.sim_func = sim_func # similarity function, default: cosine_similarity\n",
    "        self.Ybar = None # normalize data\n",
    "        self.n_users = int(np.max(self.Y_data[:, 0])) + 1 # number of users\n",
    "        self.n_items = int(np.max(self.Y_data[:, 1])) + 1 # number of items\n",
    "    \n",
    "    def fit(self):\n",
    "        # normalized Y_data -> Ybar\n",
    "        users = self.Y_data[:, 0] # all users - first column of Y_data\n",
    "        self.Ybar = self.Y_data.copy()\n",
    "        self.mu = np.zeros((self.n_users, ))\n",
    "        for n in range(self.n_users):\n",
    "            # row indices of ratings made by user n\n",
    "            ids = np.where(users == n)[0].astype(int)\n",
    "            # indices of all items rated by user n\n",
    "            item_ids = self.Y_data[ids, 1]\n",
    "            # ratings made by user n\n",
    "            ratings = self.Y_data[ids, 2]\n",
    "            # avoid zero division\n",
    "            self.mu[n] = np.mean(ratings) if ids.size > 0 else 0\n",
    "            self.Ybar[ids, 2] = ratings - self.mu[n]\n",
    "\n",
    "        # form the rating matrix as a sparse matrix\n",
    "        self.Ybar = sparse.coo_matrix(\n",
    "            (self.Ybar[:, 2], (self.Ybar[:, 1], self.Ybar[:, 0])),\n",
    "            (self.n_items, self.n_users)\n",
    "        ).tocsr()\n",
    "        \n",
    "        self.S = self.sim_func(self.Ybar.T, self.Ybar.T)\n",
    "\n",
    "    def pred(self, u, i):\n",
    "        # predict the rating of user u for item i\n",
    "        # find item i\n",
    "        ids = np.where(self.Y_data[:, 1] == i)[0].astype(int)\n",
    "        # all users who rated i\n",
    "        users_rated_i = (self.Y_data[ids, 0]).astype(int)\n",
    "        # similarities of u and users who rated i\n",
    "        sim = self.S[u, users_rated_i]\n",
    "        # most k similar users\n",
    "        nns = np.argsort(sim)[-self.k:]\n",
    "        nearest_s = sim[nns] # and the corresponding similarities\n",
    "        # the corresponding ratings\n",
    "        r = self.Ybar[i, users_rated_i[nns]]\n",
    "        eps = 1e-8 # a small number to avoid zero division\n",
    "        return (r*nearest_s).sum()/(np.abs(nearest_s).sum() + eps) + self.mu[u]\n"
   ]
  },
  {
   "cell_type": "code",
   "execution_count": 7,
   "metadata": {},
   "outputs": [
    {
     "name": "stdout",
     "output_type": "stream",
     "text": [
      "User-User CF, RMSE = 0.9766140289287265\n"
     ]
    }
   ],
   "source": [
    "# Reading ratings file:\n",
    "r_cols = ['user_id', 'movie_id', 'rating', 'unix_timestamp']\n",
    "\n",
    "rating_base = pd.read_csv('ml-100k/ua.base', sep='\\t', names=r_cols)\n",
    "rating_test = pd.read_csv('ml-100k/ua.test', sep='\\t', names=r_cols)\n",
    "\n",
    "rate_train = rating_base.to_numpy()\n",
    "rate_test = rating_test.to_numpy()\n",
    "\n",
    "# indices start from 0\n",
    "rate_train[:, :2] -= 1\n",
    "rate_test[:, :2] -= 1\n",
    "\n",
    "rs = uuCF(rate_train, k = 40)\n",
    "rs.fit()\n",
    "\n",
    "n_tests = rate_test.shape[0]\n",
    "SE = 0 # squared error\n",
    "for n in range(n_tests):\n",
    "    pred = rs.pred(rate_test[n, 0], rate_test[n, 1])\n",
    "    SE += (pred - rate_test[n, 2]) ** 2\n",
    "\n",
    "RMSE = np.sqrt(SE/n_tests)\n",
    "print(f'User-User CF, RMSE = {RMSE}')"
   ]
  },
  {
   "cell_type": "code",
   "execution_count": 8,
   "metadata": {},
   "outputs": [
    {
     "name": "stdout",
     "output_type": "stream",
     "text": [
      "Item-Item CF, RMSE = 0.9688460838682366\n"
     ]
    }
   ],
   "source": [
    "rate_train = rate_train[:, [1, 0, 2]]\n",
    "rate_test = rate_test[:, [1, 0, 2]]\n",
    "\n",
    "rs = uuCF(rate_train, k = 40)\n",
    "rs.fit()\n",
    "\n",
    "n_tests = rate_test.shape[0]\n",
    "SE = 0 # squared error\n",
    "for n in range(n_tests):\n",
    "    pred = rs.pred(rate_test[n, 0], rate_test[n, 1])\n",
    "    SE += (pred - rate_test[n, 2]) ** 2\n",
    "\n",
    "RMSE = np.sqrt(SE/n_tests)\n",
    "print(f'Item-Item CF, RMSE = {RMSE}')"
   ]
  }
 ],
 "metadata": {
  "kernelspec": {
   "display_name": "Python 3",
   "language": "python",
   "name": "python3"
  },
  "language_info": {
   "codemirror_mode": {
    "name": "ipython",
    "version": 3
   },
   "file_extension": ".py",
   "mimetype": "text/x-python",
   "name": "python",
   "nbconvert_exporter": "python",
   "pygments_lexer": "ipython3",
   "version": "3.12.7"
  }
 },
 "nbformat": 4,
 "nbformat_minor": 2
}
