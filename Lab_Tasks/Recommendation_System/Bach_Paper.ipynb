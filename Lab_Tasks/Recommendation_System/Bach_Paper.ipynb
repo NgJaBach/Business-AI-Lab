{
 "cells": [
  {
   "cell_type": "code",
   "execution_count": 255,
   "metadata": {},
   "outputs": [],
   "source": [
    "import pandas as pd\n",
    "import numpy as np\n",
    "from scipy import sparse\n",
    "from tqdm import tqdm\n",
    "import json\n",
    "\n",
    "# Constants\n",
    "mode = 'user'\n",
    "method = np.dot\n",
    "n_recommendations = 10\n",
    "n_candidates = 19"
   ]
  },
  {
   "cell_type": "code",
   "execution_count": 256,
   "metadata": {},
   "outputs": [
    {
     "name": "stdout",
     "output_type": "stream",
     "text": [
      "Number of different movies:  1493\n"
     ]
    }
   ],
   "source": [
    "def read_json(file):\n",
    "    with open(file) as f:\n",
    "        return json.load(f)\n",
    "\n",
    "# Reading data file:\n",
    "dataset = read_json(\"ml_100k.json\")\n",
    "\n",
    "movies_map = {}\n",
    "distinct_movies = []\n",
    "for elem in dataset:\n",
    "    watched = elem[0].split(' | ')\n",
    "    for movie in watched:\n",
    "        if movie not in movies_map:\n",
    "            movies_map[movie] = len(movies_map)\n",
    "            distinct_movies.append(movie)\n",
    "n_movies = len(movies_map)\n",
    "print (\"Number of different movies: \", n_movies)"
   ]
  },
  {
   "cell_type": "code",
   "execution_count": 257,
   "metadata": {},
   "outputs": [],
   "source": [
    "class CollaborativeFiltering:\n",
    "    \"\"\"\n",
    "    Collaborative Filtering class for User-User or Item-Item predictions.\n",
    "    \"\"\"\n",
    "    def __init__(self, method=method, mode=mode) -> None:\n",
    "        \"\"\"\n",
    "        Initialize the collaborative filtering model.\n",
    "        \n",
    "        Parameters:\n",
    "        - method: similarity function\n",
    "        - mode: 'user' for User-User CF, 'item' for Item-Item CF\n",
    "        \"\"\"\n",
    "        self.method = method\n",
    "        self.mode = mode\n",
    "        self.S = None # Similarity matrix\n",
    "\n",
    "    def fit(self) -> None:\n",
    "        \"\"\"\n",
    "        Compute the similarity matrix.\n",
    "        \"\"\"\n",
    "        if self.mode == 'user':\n",
    "            print(\"Computing User-User CF Similarity Matrix...\")\n",
    "            user_list = []\n",
    "            for elem in dataset:\n",
    "                watched_list = [0 for _ in range(n_movies)]\n",
    "                watched = elem[0].split(' | ')\n",
    "                for movie in watched:\n",
    "                    watched_list[movies_map[movie]] = 1\n",
    "                user_list.append(watched_list)\n",
    "            user_matrix = np.array(user_list)\n",
    "            self.S = self.method(user_matrix, user_matrix.T)\n",
    "        else:  # mode == 'item'\n",
    "            print(\"Computing Item-Item CF Similarity Matrix...\")\n",
    "            movie_list = [[0. for _ in range(len(dataset))] for _ in range(n_movies)]\n",
    "            for i, elem in enumerate(dataset):\n",
    "                movies = elem[0].split(' | ')\n",
    "                for movie in movies:\n",
    "                    movie_list[movies_map[movie]][i] = 1\n",
    "            item_matrix = np.array(movie_list)\n",
    "            self.S = self.method(item_matrix, item_matrix.T)\n",
    "            \n",
    "        # np.fill_diagonal(self.S, 0)\n",
    "\n",
    "    def recommend(self, userid: int):\n",
    "        watched = dataset[userid][0].split(' | ')\n",
    "        movies_score = {}\n",
    "        if self.mode == 'user':\n",
    "            similariests = sorted(list(enumerate(self.S[userid])), key=lambda x:x[-1], reverse=True)[:n_recommendations]\n",
    "            dvd = sum([e[-1] for e in similariests])\n",
    "            for other_userid, similarity in similariests:\n",
    "                weight = similarity / dvd\n",
    "                other_watched = dataset[other_userid][0].split(' | ')\n",
    "                for movie in other_watched:\n",
    "                    if movie not in watched:\n",
    "                        if movie not in movies_score:\n",
    "                            movies_score[movie] = 0.\n",
    "                        movies_score[movie] += weight\n",
    "            candidate_pairs = list(sorted(movies_score.items(), key=lambda x:x[-1], reverse=True))\n",
    "            candidate_items = [e[0] for e in candidate_pairs][:n_candidates]\n",
    "        else:  # mode == 'item'\n",
    "            for movie in watched:\n",
    "                similariests = sorted(list(enumerate(self.S[movies_map[movie]])), key=lambda x: x[-1], reverse=True)[:n_recommendations]\n",
    "                for movieid, weight in similariests:\n",
    "                    other_movieid = distinct_movies[movieid]\n",
    "                    if other_movieid not in watched:\n",
    "                        if other_movieid not in movies_score:\n",
    "                            movies_score[other_movieid] = 0.\n",
    "                        movies_score[other_movieid] += weight\n",
    "            candidate_pairs = list(sorted(movies_score.items(), key=lambda x:x[-1], reverse=True))\n",
    "            candidate_items = [e[0] for e in candidate_pairs][:n_candidates]\n",
    "        return candidate_items\n",
    "    \n",
    "    def evaluate_hit_rate(self) -> None:\n",
    "        \"\"\"\n",
    "        Evaluate Hit Rate@N for the CF model.\n",
    "        \"\"\"\n",
    "        if self.mode == 'user':\n",
    "            print(\"Computing HR@10 using User-User CF...\")\n",
    "        else:  # mode == 'item'\n",
    "            print(\"Computing HR@10 using Item-Item CF...\")\n",
    "        hits = 0\n",
    "        total = len(dataset)\n",
    "        for user_id, elem in enumerate(tqdm(dataset)):\n",
    "            recommended = self.recommend(user_id)\n",
    "            if elem[-1] in recommended:\n",
    "                hits += 1\n",
    "        print(hits / total)"
   ]
  },
  {
   "cell_type": "code",
   "execution_count": 258,
   "metadata": {},
   "outputs": [
    {
     "name": "stdout",
     "output_type": "stream",
     "text": [
      "Computing User-User CF Similarity Matrix...\n",
      "Computing HR@10 using User-User CF...\n"
     ]
    },
    {
     "name": "stderr",
     "output_type": "stream",
     "text": [
      "100%|██████████| 943/943 [00:00<00:00, 1118.46it/s]\n"
     ]
    },
    {
     "name": "stdout",
     "output_type": "stream",
     "text": [
      "0.16118769883351008\n",
      "Computing Item-Item CF Similarity Matrix...\n",
      "Computing HR@10 using Item-Item CF...\n"
     ]
    },
    {
     "name": "stderr",
     "output_type": "stream",
     "text": [
      "100%|██████████| 943/943 [00:28<00:00, 33.46it/s]"
     ]
    },
    {
     "name": "stdout",
     "output_type": "stream",
     "text": [
      "0.15270413573700956\n"
     ]
    },
    {
     "name": "stderr",
     "output_type": "stream",
     "text": [
      "\n"
     ]
    }
   ],
   "source": [
    "# User-User CF\n",
    "cf_user = CollaborativeFiltering(mode='user')\n",
    "cf_user.fit()\n",
    "cf_user.evaluate_hit_rate()\n",
    "\n",
    "# Item-Item CF\n",
    "cf_item = CollaborativeFiltering(mode='item')\n",
    "cf_item.fit()\n",
    "cf_item.evaluate_hit_rate()"
   ]
  }
 ],
 "metadata": {
  "kernelspec": {
   "display_name": "Python 3",
   "language": "python",
   "name": "python3"
  },
  "language_info": {
   "codemirror_mode": {
    "name": "ipython",
    "version": 3
   },
   "file_extension": ".py",
   "mimetype": "text/x-python",
   "name": "python",
   "nbconvert_exporter": "python",
   "pygments_lexer": "ipython3",
   "version": "3.12.7"
  }
 },
 "nbformat": 4,
 "nbformat_minor": 2
}
