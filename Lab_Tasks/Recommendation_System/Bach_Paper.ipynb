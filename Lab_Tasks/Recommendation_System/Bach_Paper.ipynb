{
 "cells": [
  {
   "cell_type": "code",
   "execution_count": 30,
   "metadata": {},
   "outputs": [],
   "source": [
    "import pandas as pd\n",
    "import numpy as np\n",
    "from scipy import sparse\n",
    "from tqdm import tqdm\n",
    "import json\n",
    "\n",
    "# Constants\n",
    "k_neighbors = 19\n",
    "n_recommendations = 10"
   ]
  },
  {
   "cell_type": "code",
   "execution_count": 31,
   "metadata": {},
   "outputs": [],
   "source": [
    "class CollaborativeFiltering:\n",
    "    \"\"\"\n",
    "    Collaborative Filtering class for User-User or Item-Item predictions.\n",
    "    \"\"\"\n",
    "    def __init__(self, Y_data: np.ndarray, n_entities: int, n_others: int, experienced, k: int, sim_func = np.dot, mode='none') -> None:\n",
    "        \"\"\"\n",
    "        Initialize the collaborative filtering model.\n",
    "        \n",
    "        Parameters:\n",
    "        - k: number of nearest neighbors to consider for predictions\n",
    "        - sim_func: similarity function\n",
    "        - mode: 'user' for User-User CF, 'item' for Item-Item CF\n",
    "        \"\"\"\n",
    "        if mode != 'user' and mode != 'item':\n",
    "            raise ValueError(\"Mode must be 'user' or 'item'\")\n",
    "        self.Ybar = Y_data\n",
    "        self.n_entities = n_entities  # Number of unique targets\n",
    "        self.n_items = n_others # Number of unique others\n",
    "        self.experienced = experienced\n",
    "        self.k = k\n",
    "        self.sim_func = sim_func\n",
    "        self.mode = mode\n",
    "\n",
    "    def fit(self) -> None:\n",
    "        \"\"\"\n",
    "        Compute the similarity matrix.\n",
    "        \"\"\"\n",
    "\n",
    "        self.Ybar = sparse.coo_matrix(self.Ybar).tocsr() # Create a sparse matrix\n",
    "        if self.mode == 'user':\n",
    "            print(\"Computing User-User CF Similarity Matrix...\")\n",
    "            self.S = self.sim_func(self.Ybar, self.Ybar.T)\n",
    "        else:  # mode == 'item'\n",
    "            print(\"Computing Item-Item CF Similarity Matrix...\")\n",
    "            self.S = self.sim_func(self.Ybar.T, self.Ybar)"
   ]
  },
  {
   "cell_type": "code",
   "execution_count": 32,
   "metadata": {},
   "outputs": [
    {
     "name": "stdout",
     "output_type": "stream",
     "text": [
      "Number of different movies:  1493\n",
      "Number of different users:  943\n",
      "Answers for evaluation: ['Starship Troopers', 'Primary Colors', 'Rosencrantz and Guildenstern Are Dead', 'Bean', 'Dark City', 'The Bridge on the River Kwai', 'Men in Black', 'Mimic', '2 Days in the Valley', 'The Lion King', \"It's a Wonderful Life\", 'Striptease', 'Escape from L.A.', \"William Shakespeare's Romeo and Juliet\", 'The Professional', 'Johnny Mnemonic', 'Under Siege 2: Dark Territory', 'Lost Highway', 'Speed', 'The Fifth Element', 'Congo', 'Body Parts', 'The Replacement Killers', 'Air Force One', 'The Aristocats', 'Price Above Rubies, A', 'Sleepless in Seattle', 'Rumble in the Bronx', 'The Apostle', 'Twelve Monkeys', 'Toy Story', 'Foreign Correspondent', 'Volcano', 'Jackie Brown', \"Jackie Chan's First Strike\", 'Fear', 'The Craft', 'Screamers', 'Willy Wonka and the Chocolate Factory', 'Forbidden Planet', 'The Crying Game', 'The River Wild', 'Independence Day (ID4)', 'Scream 2', 'Stand by Me', 'The Full Monty', 'French Kiss', 'The Beautician and the Beast', 'Dolores Claiborne', 'Gattaca', 'Addicted to Love', '12 Angry Men', 'The Apostle', 'Heat', 'Jaws', 'It Happened One Night', 'Absolute Power', 'The Arrival', 'Mr. Smith Goes to Washington', 'The Rock', \"Joe's Apartment\", \"My Best Friend's Wedding\", 'Jaws', 'Mystery Science Theater 3000: The Movie', 'Thousand Acres, A', 'Absolute Power', '101 Dalmatians', 'L.A. Confidential', 'Titanic', 'The Women', 'Patton', 'Robin Hood: Men in Tights', 'The Saint', 'Heavy Metal', 'Private Parts', 'Star Trek IV: The Voyage Home', 'Con Air', 'I Know What You Did Last Summer', 'Soul Food', \"The Preacher's Wife\", 'The Adventures of Robin Hood', 'Critical Care', 'Air Force One', 'To Gillian on Her 37th Birthday', \"The Preacher's Wife\", 'Made in America', 'The Beverly Hillbillies', \"She's So Lovely\", 'To Gillian on Her 37th Birthday', 'Kiss the Girls', 'Don Juan DeMarco', 'Chasing Amy', 'Thousand Acres, A', 'Dracula: Dead and Loving It', 'Rob Roy', 'Rosencrantz and Guildenstern Are Dead', 'Tales from the Crypt Presents: Bordello of Blood', 'Good Will Hunting', \"Romy and Michele's High School Reunion\", 'The Island of Dr. Moreau', 'Hackers', 'Conspiracy Theory', 'As Good As It Gets', 'Phenomenon', \"City Slickers II: The Legend of Curly's Gold\", 'Conspiracy Theory', 'Leaving Las Vegas', 'The Postman', 'Aladdin', 'Volcano', 'The Adventures of Priscilla, Queen of the Desert', 'The Magnificent Seven', 'Swingers', 'Angels and Insects', 'Taxi Driver', 'The First Wives Club', 'The American President', 'Foxfire', 'Four Rooms', 'Jack', 'Field of Dreams', 'Event Horizon', 'Jaws 2', 'Cool Hand Luke', 'The Man in the Iron Mask', 'Private Parts', 'The People vs. Larry Flynt', 'Crash', 'Batman & Robin', 'The Rock', 'Very Brady Sequel, A', 'How to Make an American Quilt', 'Once Upon a Time in America', 'Happy Gilmore', 'The Believers', 'The Man Who Would Be King', 'The Full Monty', '12 Angry Men', 'Hercules', \"The Devil's Own\", 'The Frighteners', 'When Harry Met Sally...', 'That Darn Cat!', 'The Cable Guy', 'Sleepless in Seattle', 'My Fellow Americans', 'The Silence of the Lambs', 'Thinner', 'Michael', 'Chasing Amy', 'Men in Black', 'Sleeper', 'Taxi Driver', 'Time to Kill, A', \"Joe's Apartment\", 'Everyone Says I Love You', 'Fantasia', 'Eraser', 'City Hall', 'Star Trek: The Motion Picture', 'Unforgiven', 'Rosewood', 'GoldenEye', 'Mr. Wrong', 'Primary Colors', 'Rosewood', 'Better Off Dead...', 'That Old Feeling', 'Maximum Risk', 'Sleeper', 'The Rock', 'Happy Gilmore', 'The Big Lebowski', 'American in Paris, An', 'The Jackal', 'Big Bully', 'Boogie Nights', 'Cool Hand Luke', \"Things to Do in Denver when You're Dead\", 'Amadeus', \"Romy and Michele's High School Reunion\", \"One Flew Over the Cuckoo's Nest\", 'When the Cats Away (Chacun cherche son chat)', 'The Fugitive', 'Alien', 'Rear Window', 'Pulp Fiction', 'Liar Liar', 'U Turn', 'To Kill a Mockingbird', 'The Pillow Book', \"William Shakespeare's Romeo and Juliet\", 'Cyrano de Bergerac', 'The Shawshank Redemption', 'Crash', 'The Beverly Hillbillies', 'Raise the Red Lantern', 'The Parent Trap', 'Larger Than Life', \"The Devil's Own\", 'Reservoir Dogs', 'Crimson Tide', \"Mr. Holland's Opus\", 'Soul Food', 'The Fifth Element', 'Gone with the Wind', 'Sleepless in Seattle', 'In Love and War', 'Sgt. Bilko', 'Restoration', 'Return of the Jedi', 'Phantoms', 'Soul Food', 'The Silence of the Lambs', 'American in Paris, An', 'Deconstructing Harry', 'Murder at 1600', 'The Godfather: Part II', 'Ransom', 'Return of the Jedi', \"Ulee's Gold\", 'Robin Hood: Men in Tights', 'Bonnie and Clyde', 'Raising Arizona', 'Set It Off', 'Amadeus', 'The Paper', 'Heathers', 'American Werewolf in London, An', 'Lawrence of Arabia', 'Deceiver', 'Clear and Present Danger', 'Air Bud', 'Sabrina', 'Like Water For Chocolate (Como agua para chocolate)', 'Star Trek VI: The Undiscovered Country', 'Belle de jour', 'Murder at 1600', 'Private Benjamin', 'Raiders of the Lost Ark', 'Jurassic Park', 'Bob Roberts', 'Shine', 'One Fine Day', 'L.A. Confidential', 'Clerks', 'Beavis and Butt-head Do America', 'Postino, Il', 'Liar Liar', 'The Full Monty', 'Kull the Conqueror', 'The Rock', 'The Adventures of Priscilla, Queen of the Desert', 'Ransom', 'How to Make an American Quilt', 'Heat', 'Harold and Maude', 'Roman Holiday', 'The Last Klezmer: Leopold Kozlowski, His Life and Music', 'First Knight', 'Fast, Cheap & Out of Control', 'The Big Lebowski', 'Psycho', 'Boogie Nights', 'Scream', 'The Godfather: Part II', 'Psycho', 'Bloodsport 2', 'Secrets & Lies', 'Herbie Rides Again', 'The Grifters', 'The MatchMaker', 'Hoodlum', 'Dave', 'Return of the Jedi', 'Tin Cup', 'The Godfather', 'Eddie', 'As Good As It Gets', 'Dracula: Dead and Loving It', 'The Bridge on the River Kwai', 'The Right Stuff', \"The Preacher's Wife\", 'Six Degrees of Separation', 'Contact', 'U Turn', 'Primary Colors', 'The Fugitive', 'The Nutty Professor', 'Like Water For Chocolate (Como agua para chocolate)', 'Phenomenon', '187', 'The Horse Whisperer', 'Everyone Says I Love You', 'Smoke', 'Jade', 'Switchback', \"My Best Friend's Wedding\", 'Murder at 1600', 'Fantasia', 'Hard Target', 'Scream', 'Big Night', \"The Devil's Own\", 'The Godfather', 'It Happened One Night', 'The Spitfire Grill', 'L.A. Confidential', 'Return of the Jedi', 'Star Trek: First Contact', 'The Blues Brothers', 'Rocket Man', 'Cape Fear', 'Contact', 'Jerry Maguire', '2001: A Space Odyssey', 'Brassed Off', 'Vegas Vacation', 'Back to the Future', 'Mighty Aphrodite', 'Gone with the Wind', 'U Turn', 'The Hudsucker Proxy', 'The Crying Game', 'Clockwork Orange, A', 'Rear Window', 'Chasing Amy', 'Cemetery Man (Dellamorte Dellamore)', \"Ulee's Gold\", \"Fathers' Day\", 'Field of Dreams', 'Clockwork Orange, A', 'The Postman', '20,000 Leagues Under the Sea', 'Chasing Amy', 'The Ice Storm', 'Mighty Aphrodite', 'Shine', 'Mulholland Falls', 'The Net', 'Winnie the Pooh and the Blustery Day', 'Muppet Treasure Island', 'Fargo', 'Village of the Damned', 'Prefontaine', 'The Island of Dr. Moreau', 'G.I. Jane', 'Ma vie en rose (My Life in Pink)', 'Bedknobs and Broomsticks', 'Wag the Dog', 'High Noon', 'The Jackal', 'Apt Pupil', 'The House of Yes', 'Raising Arizona', 'Bound', 'To Gillian on Her 37th Birthday', 'Sleepless in Seattle', 'The Long Kiss Goodnight', 'Dr. Strangelove or: How I Learned to Stop Worrying and Love the Bomb', 'Spice World', 'Event Horizon', 'Babe', \"Gone Fishin'\", 'Nikita (La Femme Nikita)', 'City of Angels', \"The Devil's Advocate\", 'The Rock', 'Legends of the Fall', 'Nell', 'Richard III', 'The Cable Guy', 'Three Colors: Red', 'Sleepers', 'Fierce Creatures', 'Once Upon a Time in America', 'Victor/Victoria', 'Liar Liar', 'Everyone Says I Love You', 'Bound', 'One Fine Day', 'Johnny Mnemonic', 'When Harry Met Sally...', 'Batman & Robin', 'The Graduate', 'Spy Hard', 'Executive Decision', 'Return of the Jedi', 'Streetcar Named Desire, A', 'Cool Hand Luke', 'Monty Python and the Holy Grail', 'Matilda', 'True Romance', 'Back to the Future', 'Welcome to the Dollhouse', 'Shine', 'Kazaam', 'Fargo', 'Flubber', 'Fire Down Below', 'The Birdcage', 'The Beautician and the Beast', 'Jingle All the Way', 'Full Metal Jacket', 'Sgt. Bilko', 'Jaws 2', 'Fargo', 'To Gillian on Her 37th Birthday', 'Heat', 'Down Periscope', 'Contact', 'Jungle2Jungle', 'The Big Lebowski', 'Freeway', 'Liar Liar', 'Private Parts', 'The Garden of Finzi-Contini, The (Giardino dei Finzi-Contini', 'The Piano', 'The Birdcage', 'Raiders of the Lost Ark', 'Blown Away', 'Titanic', 'The Shooter', 'Face/Off', 'Conspiracy Theory', 'Broken Arrow', 'Multiplicity', 'Jerry Maguire', 'Star Trek: First Contact', 'The Evening Star', 'The Full Monty', 'Lone Star', 'Red Firecracker, Green Firecracker', 'Halloween: The Curse of Michael Myers', 'MisÃ©rables, Les', 'Star Wars', 'Pretty Woman', 'Face/Off', 'George of the Jungle', 'Operation Dumbo Drop', 'Apocalypse Now', 'Cop Land', 'How to Make an American Quilt', 'Dead Man Walking', 'The Evening Star', 'Contact', 'Contact', 'Jury Duty', 'Flubber', 'Titanic', 'Lost in Space', 'The Big Lebowski', 'Laura', 'Free Willy', 'The Ref', '101 Dalmatians', 'Carrie', \"Dante's Peak\", 'Shadow Conspiracy', 'Brazil', 'Jackie Brown', 'Canadian Bacon', 'The Empire Strikes Back', 'Speechless', 'The Mirror Has Two Faces', 'Air Bud', 'The Edge', 'Face/Off', \"The Devil's Own\", 'The Road to Wellville', 'GoldenEye', 'The Silence of the Lambs', 'The Magnificent Seven', 'Batman Returns', 'The Silence of the Lambs', 'Private Benjamin', 'The Lost World: Jurassic Park', 'Mimic', 'Phenomenon', 'The Saint', 'Mother', 'How to Make an American Quilt', 'Deconstructing Harry', 'Private Parts', 'The Abyss', 'The Big Sleep', 'I.Q.', 'Apocalypse Now', 'I Know What You Did Last Summer', 'Evita', 'Fierce Creatures', 'Addicted to Love', 'Sleepers', 'Touch', 'Amadeus', 'First Kid', 'The Man in the Iron Mask', 'The Remains of the Day', 'Braveheart', 'Happy Gilmore', \"Dante's Peak\", 'Jackie Brown', 'Good Will Hunting', 'Good Will Hunting', 'Waiting for Guffman', 'Amistad', 'The Jackal', 'Crumb', 'Mortal Kombat: Annihilation', 'Congo', 'Contact', 'Jungle2Jungle', 'The Right Stuff', 'Courage Under Fire', 'Rumble in the Bronx', 'Bulletproof', 'True Lies', 'Much Ado About Nothing', 'Strange Days', 'The House of Yes', \"Marvin's Room\", 'The River Wild', 'The Frighteners', 'The First Wives Club', 'Star Wars', 'The Arrival', 'The Sting', 'Phenomenon', 'Carrie', 'Ponette', 'The Bridge on the River Kwai', 'Pulp Fiction', 'Air Bud', 'Best of the Best 3: No Turning Back', 'The Cable Guy', 'For Richer or Poorer', 'Kolya', 'Scream', 'Star Wars', 'The Truth About Cats & Dogs', 'Tombstone', 'Candyman: Farewell to the Flesh', 'Braveheart', 'The Beverly Hillbillies', 'Titanic', 'Belle de jour', 'The Fifth Element', 'Beverly Hills Cop III', 'Jackie Brown', 'Dead Poets Society', 'Spawn', 'Space Jam', 'The MatchMaker', 'The Full Monty', 'Batman & Robin', 'Fled', 'Broken Arrow', 'The Game', 'Mother', 'Excess Baggage', 'This Is Spinal Tap', \"What's Love Got to Do with It\", 'Chasing Amy', 'Sleepers', 'Forbidden Planet', 'The Island of Dr. Moreau', 'Chain Reaction', 'Brazil', 'Apt Pupil', 'Amateur', 'The Santa Clause', 'Brazil', 'Scream 2', 'Bound', 'Dead Man Walking', 'Stargate', 'Madonna: Truth or Dare', 'The Full Monty', 'The Beverly Hillbillies', 'To Gillian on Her 37th Birthday', 'Young Guns', 'Austin Powers: International Man of Mystery', \"Schindler's List\", 'Independence Day (ID4)', 'Gang Related', 'Relative Fear', 'The Godfather', 'Barb Wire', 'Volcano', 'Crimson Tide', 'The Fifth Element', 'Midnight in the Garden of Good and Evil', 'As Good As It Gets', 'Female Perversions', 'Commandments', 'Candyman: Farewell to the Flesh', 'Sabrina', 'Nixon', 'Mission: Impossible', 'Afterglow', 'Fargo', 'Fire Down Below', 'Twilight', 'The Lost World: Jurassic Park', 'Rebel Without a Cause', 'Hellraiser: Bloodline', 'Courage Under Fire', 'The Associate', 'Heavy Metal', \"McHale's Navy\", 'Dead Man Walking', 'Evita', 'Dangerous Beauty', 'The Lawnmower Man', 'Indiana Jones and the Last Crusade', 'The Pompatus of Love', 'Gattaca', 'Duoluo tianshi', 'In & Out', 'One Fine Day', 'Good Will Hunting', \"Dante's Peak\", 'Cold Comfort Farm', 'Phenomenon', 'Johnny Mnemonic', 'For Richer or Poorer', 'Bedknobs and Broomsticks', 'Being There', 'Star Trek V: The Final Frontier', 'Jean de Florette', \"William Shakespeare's Romeo and Juliet\", 'Deep Rising', 'Blues Brothers 2000', 'Groundhog Day', 'When Harry Met Sally...', 'Ransom', 'Back to the Future', 'Seven Years in Tibet', 'Starship Troopers', 'The Quick and the Dead', 'Army of Darkness', 'The City of Lost Children', 'Monty Python and the Holy Grail', 'Stealing Beauty', 'North by Northwest', 'The Birdcage', 'Desperado', 'Jackie Brown', 'Independence Day (ID4)', 'Butch Cassidy and the Sundance Kid', 'Mr. Magoo', '187', 'Home Alone 3', 'Secrets & Lies', 'D3: The Mighty Ducks', \"Dante's Peak\", 'Chasing Amy', 'Jungle2Jungle', 'Evil Dead II', 'Escape from L.A.', 'The Usual Suspects', 'Copycat', 'Malice', 'Braveheart', 'The First Wives Club', 'The Godfather: Part II', \"My Best Friend's Wedding\", 'Trainspotting', 'Nothing to Lose', 'Casablanca', 'Grosse Pointe Blank', 'Bushwhacked', 'Pink Floyd - The Wall', 'Titanic', 'The Wedding Singer', 'Ghost', 'Lost in Space', 'Scream', 'Nothing to Lose', 'Scream 2', 'The Killing Fields', \"Breakfast at Tiffany's\", 'Austin Powers: International Man of Mystery', 'Jerry Maguire', 'G.I. Jane', 'Free Willy 3: The Rescue', 'Sgt. Bilko', 'Batman & Robin', 'Butch Cassidy and the Sundance Kid', 'Mouse Hunt', 'The Truth About Cats & Dogs', 'Family Thing, A', 'Foxfire', 'Jack', 'Money Talks', 'The Full Monty', 'Breaking the Waves', 'Mimic', 'Alien: Resurrection', 'Stargate', 'Losing Chase', 'Enchanted April', 'L.A. Confidential', 'The Magnificent Seven', 'Ghost', \"Dante's Peak\", 'The Birdcage', 'Jungle2Jungle', 'Indian Summer', 'The People vs. Larry Flynt', \"The Devil's Own\", 'Crash', 'Last Man Standing', 'Conspiracy Theory', 'Robocop 3', 'Senseless', \"Dante's Peak\", 'Home Alone 3', 'Fly Away Home', 'Palmetto', 'The Secret Adventures of Tom Thumb', 'The River Wild', 'The Usual Suspects', 'Toy Story', 'The Winter Guest', 'Raise the Red Lantern', 'Good Will Hunting', 'The Quiet Man', 'Chinatown', 'Striptease', 'Twister', 'The Man Without a Face', 'Clerks', 'While You Were Sleeping', 'Very Brady Sequel, A', 'Daylight', 'The Fugitive', 'Volcano', 'The Howling', 'Wag the Dog', 'The Paper', 'Further Gesture, A', 'Contact', 'Ayn Rand: A Sense of Life', 'Judge Dredd', \"My Best Friend's Wedding\", 'Dangerous Minds', 'The Full Monty', 'Alien: Resurrection', 'Return of the Jedi', 'Dangerous Beauty', \"Romy and Michele's High School Reunion\", 'Big Night', 'When a Man Loves a Woman', \"The Preacher's Wife\", 'My Fellow Americans', 'Dead Poets Society', 'Mars Attacks!', 'Twister', 'The Godfather: Part II', 'Like Water For Chocolate (Como agua para chocolate)', 'Midnight in the Garden of Good and Evil', 'The Godfather', 'The Lion King', 'Jack', 'Sunset Blvd.', 'Twister', 'Flipper', 'Murder at 1600', 'Barbarella', 'The Day the Earth Stood Still', 'The Full Monty', 'Aladdin', 'This Is Spinal Tap', 'Mortal Kombat: Annihilation', 'The Hunchback of Notre Dame', 'Alien: Resurrection', 'Patton', 'Murder at 1600', 'Threesome', 'Duck Soup', 'Booty Call', 'Beautiful Girls', 'The Big Lebowski', 'City Hall', 'One Fine Day', 'Independence Day (ID4)', 'Wag the Dog', 'Night on Earth', 'The Killing Fields', 'Matilda', 'Annie Hall', 'Indiana Jones and the Last Crusade', 'Taxi Driver', 'Desperate Measures', 'The Phantom', 'In & Out', 'Blood & Wine', 'Home Alone', 'Down Periscope', 'Grosse Pointe Blank', 'Big Night', 'The Apostle', 'The Birdcage', 'Family Thing, A', 'Speed', 'Apt Pupil', 'Fire Down Below', 'G.I. Jane', 'Mediterraneo', 'The Third Man', '187', 'Selena', 'Fargo', 'Escape from New York', 'Twister', 'Sirens', 'Shine', 'Crash', 'Toy Story', 'The Killing Fields', 'The Man in the Iron Mask', 'The Englishman Who Went Up a Hill, But Came Down a Mountain', 'Jungle2Jungle', 'Bonnie and Clyde', 'Wild America', 'The Big Lebowski', 'Scream', 'Mother', 'Thousand Acres, A', 'Once Upon a Time... When We Were Colored', 'Ruby in Paradise', \"One Flew Over the Cuckoo's Nest\", 'The Hunt for Red October', 'The Big Lebowski', 'Crash', 'The Birds', 'City of Angels', 'Twelve Monkeys', 'Evita', 'Paris, Texas', 'Fargo', 'Vegas Vacation', 'Richard III', 'Somewhere in Time', 'Cop Land', 'Bean', \"One Flew Over the Cuckoo's Nest\", 'Psycho', 'Bean', 'The Princess Bride', 'Jaws', 'The Fifth Element', \"Marvin's Room\", 'Scream 2', 'The Omen', 'Private Parts', 'The Glimmer Man', 'Critical Care', 'Jerry Maguire', 'Seven Years in Tibet', 'Deep Rising', 'True Lies', 'Dumb & Dumber', 'Jackie Brown', 'Ghosts of Mississippi', 'Boogie Nights', 'The Juror', 'Mad City', 'The Substitute', 'Conan the Barbarian', 'The Shawshank Redemption', 'Scream', 'Titanic', 'The Saint', 'Waterworld', 'Species', 'Star Trek IV: The Voyage Home', 'Batman & Robin', 'The Cable Guy', 'Mallrats', 'Trees Lounge', 'Event Horizon', 'Sense and Sensibility', 'Mars Attacks!', 'George of the Jungle', 'Lone Star', 'Playing God', 'I.Q.', 'The 39 Steps', 'Star Trek: First Contact', 'Sgt. Bilko', 'Leave It to Beaver', 'Hellraiser: Bloodline', 'Truth or Consequences, N.M.', 'The Silence of the Lambs', 'The English Patient', 'The Object of My Affection', 'Boot, Das', 'Dirty Dancing', 'The Remains of the Day', 'Volcano', 'Raging Bull', 'High Noon', 'Washington Square', 'Life Less Ordinary, A', 'Grosse Pointe Blank', \"The Devil's Advocate\", 'The Replacement Killers', 'The Gay Divorcee', 'True Lies', 'Liar Liar', 'Toy Story', 'Firestorm', 'Career Girls', 'Sabrina', 'Liar Liar', 'When Harry Met Sally...', 'Desperate Measures', 'Top Gun', 'Seven (Se7en)', 'Kids', 'Starship Troopers', 'Searching for Bobby Fischer', 'White Squall', 'Bean', \"Ulee's Gold\", 'The Cable Guy', 'Batman & Robin', 'Dunston Checks In', 'My Fair Lady', 'Breakdown', 'The Great Escape', 'Liar Liar', 'All About Eve', \"Joe's Apartment\", 'Evita', 'The Graduate', 'Hush', 'Contact', 'Swingers', 'Grosse Pointe Blank', 'Good Will Hunting']\n",
      "User-Item Matrix:  [[1 1 1 ... 0 0 0]\n",
      " [1 0 0 ... 0 0 0]\n",
      " [0 0 0 ... 0 0 0]\n",
      " ...\n",
      " [1 0 0 ... 0 0 0]\n",
      " [0 0 0 ... 0 0 0]\n",
      " [0 0 0 ... 0 0 0]]\n"
     ]
    }
   ],
   "source": [
    "def read_json(file):\n",
    "    with open(file) as f:\n",
    "        return json.load(f)\n",
    "\n",
    "# Reading data file:\n",
    "dataset = read_json(\"ml_100k.json\")\n",
    "\n",
    "# Getting users and movies lists\n",
    "n_movies = 0\n",
    "n_users = 0\n",
    "desire = list() # movies each user would watch\n",
    "movies_set = set()\n",
    "movies_id = dict()\n",
    "for elem in dataset:\n",
    "    desire.append(elem[1])\n",
    "    watched = elem[0].split(' | ')\n",
    "    for movie in watched:\n",
    "        if movie not in movies_set:\n",
    "            movies_set.add(movie)\n",
    "            movies_id[movie] = n_movies\n",
    "            n_movies += 1\n",
    "    n_users += 1\n",
    "\n",
    "# We turn the dataset to user-item matrix (to apply the book's code)\n",
    "ui_matrix = np.zeros((n_users, n_movies), dtype=int)\n",
    "\n",
    "movies_watched = list()\n",
    "users_liked = list([] for _ in range(n_movies))\n",
    "index = 0\n",
    "for elem in dataset:\n",
    "    watched = elem[0].split(' | ')\n",
    "    movies_watched.append(watched)\n",
    "    for movie in watched:\n",
    "        id = movies_id[movie]\n",
    "        ui_matrix[index, id] = 1\n",
    "        users_liked[id].append(index)\n",
    "    index += 1\n",
    "    \n",
    "print(\"Number of different movies: \", n_movies)\n",
    "print(\"Number of different users: \", n_users)\n",
    "print(\"Answers for evaluation:\", desire)\n",
    "print(\"User-Item Matrix: \", ui_matrix)"
   ]
  },
  {
   "cell_type": "code",
   "execution_count": 33,
   "metadata": {},
   "outputs": [
    {
     "name": "stdout",
     "output_type": "stream",
     "text": [
      "Computing User-User CF Similarity Matrix...\n",
      "Computing Item-Item CF Similarity Matrix...\n"
     ]
    }
   ],
   "source": [
    "# User-User CF\n",
    "cf_user = CollaborativeFiltering(ui_matrix, n_users, n_movies, movies_watched, k_neighbors, mode='user')\n",
    "cf_user.fit()\n",
    "# cf_user.evaluate_recommendations(desire, n_recommendations)\n",
    "\n",
    "# Item-Item CF\n",
    "cf_item = CollaborativeFiltering(ui_matrix, n_movies, n_users, users_liked, k_neighbors, mode='item')\n",
    "cf_item.fit()\n",
    "# cf_item.evaluate_recommendations(desire, n_recommendations)"
   ]
  }
 ],
 "metadata": {
  "kernelspec": {
   "display_name": "Python 3",
   "language": "python",
   "name": "python3"
  },
  "language_info": {
   "codemirror_mode": {
    "name": "ipython",
    "version": 3
   },
   "file_extension": ".py",
   "mimetype": "text/x-python",
   "name": "python",
   "nbconvert_exporter": "python",
   "pygments_lexer": "ipython3",
   "version": "3.12.7"
  }
 },
 "nbformat": 4,
 "nbformat_minor": 2
}
