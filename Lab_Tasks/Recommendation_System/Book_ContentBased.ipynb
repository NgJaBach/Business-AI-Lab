{
 "cells": [
  {
   "cell_type": "code",
   "execution_count": 6,
   "metadata": {},
   "outputs": [
    {
     "name": "stdout",
     "output_type": "stream",
     "text": [
      "Number of users: 943\n",
      "Number of ratings: 100000\n",
      "Number of movies: 1682\n"
     ]
    }
   ],
   "source": [
    "from __future__ import print_function\n",
    "import numpy as np\n",
    "import pandas as pd\n",
    "\n",
    "# Reading user file\n",
    "u_cols = ['user_id', 'age', 'sex', 'occupation', 'zip_code']\n",
    "users = pd.read_csv('ml-100k/u.user', sep='|', names=u_cols)\n",
    "n_users = users.shape[0]\n",
    "print('Number of users:', n_users)\n",
    "\n",
    "# Reading ratings file\n",
    "r_cols = ['user_id', 'movie_id', 'rating', 'unix_timestamp']\n",
    "ratings_base = pd.read_csv('ml-100k/u.data', sep='\\t', names=r_cols)\n",
    "n_ratings = ratings_base.shape[0]\n",
    "print('Number of ratings:', n_ratings)\n",
    "\n",
    "# Reading movie file\n",
    "m_cols = ['movie_id', 'title', 'release_date', 'video_release_date', 'imdb_url']\n",
    "movies = pd.read_csv('ml-100k/u.item', sep='|', names=m_cols, encoding='latin-1')\n",
    "n_movies = movies.shape[0]\n",
    "print('Number of movies:', n_movies)"
   ]
  },
  {
   "cell_type": "code",
   "execution_count": 7,
   "metadata": {},
   "outputs": [
    {
     "name": "stdout",
     "output_type": "stream",
     "text": [
      "Number of items: 1682\n"
     ]
    }
   ],
   "source": [
    "# Reading items file:\n",
    "i_cols = ['movie id', 'movie title', 'release date', 'video release date', 'IMDb URL',\n",
    "          'unknown', 'Action', 'Adventure', 'Animation', 'Children\\'s', 'Comedy', 'Crime', \n",
    "          'Documentary', 'Drama', 'Fantasy', 'Film-Noir', 'Horror', 'Musical', 'Mystery', \n",
    "          'Romance', 'Sci-Fi', 'Thriller', 'War', 'Western']\n",
    "items = pd.read_csv('ml-100k/u.item', sep='|', names=i_cols, encoding='latin1')\n",
    "n_items = items.shape[0]\n",
    "print('Number of items:', n_items)\n",
    "\n",
    "X0 = items.to_numpy()\n",
    "X_train_counts = X0[:, -19:]"
   ]
  }
 ],
 "metadata": {
  "kernelspec": {
   "display_name": "Python 3",
   "language": "python",
   "name": "python3"
  },
  "language_info": {
   "codemirror_mode": {
    "name": "ipython",
    "version": 3
   },
   "file_extension": ".py",
   "mimetype": "text/x-python",
   "name": "python",
   "nbconvert_exporter": "python",
   "pygments_lexer": "ipython3",
   "version": "3.12.7"
  }
 },
 "nbformat": 4,
 "nbformat_minor": 2
}
