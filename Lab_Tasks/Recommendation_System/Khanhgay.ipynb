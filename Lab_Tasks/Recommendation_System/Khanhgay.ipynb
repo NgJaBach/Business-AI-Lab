{
 "cells": [
  {
   "cell_type": "code",
   "execution_count": 1,
   "metadata": {},
   "outputs": [],
   "source": [
    "import numpy as np\n",
    "import pandas as pd\n",
    "from sklearn.metrics.pairwise import cosine_similarity\n",
    "from scipy import sparse "
   ]
  },
  {
   "cell_type": "code",
   "execution_count": 2,
   "metadata": {},
   "outputs": [],
   "source": [
    "class uuCF(object):\n",
    "    def __init__(self, Y_data, k, sim_func = cosine_similarity):\n",
    "        self.Y_data = Y_data\n",
    "        self.k = k # number of neighborhood\n",
    "        self.sim_func = sim_func \n",
    "        self.Ybar = None # normalize data\n",
    "        self.n_users = int(np.max(self.Y_data[:, 0])) + 1\n",
    "        self.n_items = int(np.max(self.Y_data[:, 1])) + 1\n",
    "\n",
    "    def fit(self):\n",
    "        #normalized\n",
    "        users = self.Y_data[:, 0] # Lấy tất cả các ID của users\n",
    "        self.Ybar = self.Y_data.copy() # Sao chép Y_data vào Ybar để thực hiện quá trình chuẩn hóa\n",
    "        self.mu = np.zeros((self.n_users,)) # Khởi tạo mảng chứa mean rating của mỗi user\n",
    "        for n in range(self.n_users): # Tìm tất cả các hàng trong Y_data có user_id\n",
    "            ids = np.where(users == n)[0].astype(int) # Tìm các sản phẩm mà người dùng n đã đánh giá \n",
    "            ratings = self.Y_data[ids, 2] # Cột thứ 3 của Y_data - ratings\n",
    "            self.mu[n] = np.mean(ratings) if ids.size > 0 else 0 # Tính mean rating của người dùng thứ n\n",
    "            self.Ybar[ids, 2] = ratings - self.mu[n] # Lấy các rating của người dùng n trừ đi mean rating để normalized -> Tránh việc mỗi user có cách đánh giá khác nhau\n",
    "        self.Ybar = sparse.coo_matrix((self.Ybar[:, 2],                       # Lấy ratings của users\n",
    "                                      (self.Ybar[:, 1], self.Ybar[:, 0])),    # Lấy item_id -> lấy user_id\n",
    "                                      (self.n_items, self.n_users)).tocsr()   # Chuyển đổi sparse matrix từ định dạng COO sang CSR\n",
    "        self.S = self.sim_func(self.Ybar.T, self.Ybar.T) #Tính similarity giữa các người dùng với nhau \n",
    "\n",
    "    def pred(self, u, i):\n",
    "        ids = np.where(self.Y_data[:, 1] == i)[0].astype(int)\n",
    "        users_rated_i = (self.Y_data[ids, 0]).astype(int)\n",
    "        sim = self.S[u, users_rated_i]\n",
    "        nns = np.argsort(sim)[-self.k:]\n",
    "        nearest_s = sim[nns]\n",
    "        r = self.Ybar[i, users_rated_i[nns]]\n",
    "        eps = 1e-8 # a small number to avoid zero division\n",
    "        return (r*nearest_s).sum()/(np.abs(nearest_s).sum() + eps) + self.mu[u]"
   ]
  },
  {
   "cell_type": "code",
   "execution_count": 3,
   "metadata": {},
   "outputs": [
    {
     "name": "stdout",
     "output_type": "stream",
     "text": [
      "User-user CF, RMSE = 0.9799732334966004\n"
     ]
    }
   ],
   "source": [
    "#User-User CF\n",
    "r_cols = [\"user_id\", \"item_id\", \"rating\", \"unix_timestamp\"]\n",
    "ratings_base = pd.read_csv(\"ml-100k/u1.base\", sep=\"\\t\", names=r_cols)\n",
    "ratings_test = pd.read_csv(\"ml-100k/u1.test\", sep=\"\\t\", names=r_cols)\n",
    "#Reading ratings file:\n",
    "xrange = range\n",
    "rate_train = ratings_base.values\n",
    "rate_test = ratings_test.values\n",
    "rate_train[:, :2] -= 1\n",
    "rate_test[:, :2] -= 1\n",
    "rs = uuCF(rate_train, k = 15)\n",
    "rs.fit()\n",
    "n_tests = rate_test.shape[0]\n",
    "SE = 0 # squared error\n",
    "for n in xrange(n_tests):\n",
    "    pred = rs.pred(rate_test[n, 0], rate_test[n, 1])\n",
    "    SE += (pred - rate_test[n, 2])**2\n",
    "\n",
    "RMSE = np.sqrt(SE/n_tests)\n",
    "print(\"User-user CF, RMSE =\", RMSE)"
   ]
  },
  {
   "cell_type": "code",
   "execution_count": 4,
   "metadata": {},
   "outputs": [],
   "source": [
    "# def compute_hr_at_10(model, test_data, n_items):\n",
    "#     hits = 0 # Khởi tạo biến lưu só lần dự đoán đúng nằm trong top 10\n",
    "#     users = np.unique(test_data[:, 0])  # Lấy tất cả user trong tập test\n",
    "    \n",
    "#     for u in users:\n",
    "#         # Lấy các item thực tế đã được đánh giá bởi user u trong tập test\n",
    "#         items_tested = test_data[test_data[:, 0] == u][:, 1]\n",
    "        \n",
    "#         rated_items = set(model.Y_data[model.Y_data[:, 0] == u][:, 1]) #Lấy danh sách các item đã được người dùng u đánh giá \n",
    "#         unrated_items = [i for i in range(n_items) if i not in rated_items] #Lấy danh sách các item chưa được đánh giá bằng cách loại bỏ các item đã được đánh giágiá\n",
    " \n",
    "#         # Dự đoán rating cho các item chưa được đánh giá\n",
    "#         predictions = [(i, model.pred(u, i)) for i in unrated_items] #Lấy danh sách các dự đoán rating cho các item chưa được đánh giá\n",
    "#         predictions.sort(key=lambda x: x[1], reverse=True)  # Sắp xếp theo rating dự đoán giảm dần\n",
    "        \n",
    "#         # Lấy Top-10 item được dự đoán\n",
    "#         top_10_items = [item for item, _ in predictions[:10]]\n",
    "        \n",
    "#         # Kiểm tra xem có item thực tế nằm trong Top-10 không\n",
    "#         if any(item in top_10_items for item in items_tested):\n",
    "#             hits += 1\n",
    "    \n",
    "#     hr_at_10 = hits / len(users) # Tính HR@10 = số lần dự đoán đúng / tổng số user\n",
    "#     return hr_at_10\n",
    "\n",
    "# hr_at_10 = compute_hr_at_10(rs, rate_test, rs.n_items)\n",
    "# print(\"User-user CF, HR@10 =\", hr_at_10)"
   ]
  },
  {
   "cell_type": "code",
   "execution_count": 5,
   "metadata": {},
   "outputs": [
    {
     "name": "stdout",
     "output_type": "stream",
     "text": [
      "Item-item CF, RMSE = 0.9657065220682001\n"
     ]
    }
   ],
   "source": [
    "#Item-Item CF\n",
    "rate_train = rate_train[:, [1, 0, 2]]\n",
    "rate_test = rate_test[:, [1, 0, 2]]\n",
    "rs = uuCF(rate_train, k = 40)\n",
    "rs.fit()\n",
    "n_tests = rate_test.shape[0]\n",
    "SE = 0 #square error\n",
    "for n in xrange(n_tests):\n",
    "    pred = rs.pred(rate_test[n, 0], rate_test[n, 1])\n",
    "    SE += (pred - rate_test[n, 2])**2\n",
    "\n",
    "RMSE = np.sqrt(SE/n_tests)\n",
    "print(\"Item-item CF, RMSE =\", RMSE)"
   ]
  },
  {
   "cell_type": "code",
   "execution_count": 6,
   "metadata": {},
   "outputs": [
    {
     "ename": "NameError",
     "evalue": "name 'tqdm' is not defined",
     "output_type": "error",
     "traceback": [
      "\u001b[1;31m---------------------------------------------------------------------------\u001b[0m",
      "\u001b[1;31mNameError\u001b[0m                                 Traceback (most recent call last)",
      "Cell \u001b[1;32mIn[6], line 29\u001b[0m\n\u001b[0;32m     26\u001b[0m     hr_at_10 \u001b[38;5;241m=\u001b[39m hits \u001b[38;5;241m/\u001b[39m \u001b[38;5;28mlen\u001b[39m(users) \u001b[38;5;66;03m# Tính HR@10 = số lần dự đoán đúng / tổng số user\u001b[39;00m\n\u001b[0;32m     27\u001b[0m     \u001b[38;5;28;01mreturn\u001b[39;00m hr_at_10\n\u001b[1;32m---> 29\u001b[0m HR10 \u001b[38;5;241m=\u001b[39m \u001b[43mcompute_hr_at_10\u001b[49m\u001b[43m(\u001b[49m\u001b[43mrs\u001b[49m\u001b[43m,\u001b[49m\u001b[43m \u001b[49m\u001b[43mrate_test\u001b[49m\u001b[43m,\u001b[49m\u001b[43m \u001b[49m\u001b[43mrs\u001b[49m\u001b[38;5;241;43m.\u001b[39;49m\u001b[43mn_items\u001b[49m\u001b[43m)\u001b[49m \u001b[38;5;66;03m#Tính HR@10 cho Item-Item CF\u001b[39;00m\n\u001b[0;32m     30\u001b[0m \u001b[38;5;28mprint\u001b[39m(\u001b[38;5;124m\"\u001b[39m\u001b[38;5;124mItem-item CF, HR@10 =\u001b[39m\u001b[38;5;124m\"\u001b[39m, HR10) \u001b[38;5;66;03m#In ra kết quả HR@10 cho Item-Item CF\u001b[39;00m\n",
      "Cell \u001b[1;32mIn[6], line 5\u001b[0m, in \u001b[0;36mcompute_hr_at_10\u001b[1;34m(model, test_data, n_items)\u001b[0m\n\u001b[0;32m      2\u001b[0m hits \u001b[38;5;241m=\u001b[39m \u001b[38;5;241m0\u001b[39m\n\u001b[0;32m      3\u001b[0m users \u001b[38;5;241m=\u001b[39m np\u001b[38;5;241m.\u001b[39munique(test_data[:, \u001b[38;5;241m0\u001b[39m])  \u001b[38;5;66;03m# Lấy tất cả user trong tập test\u001b[39;00m\n\u001b[1;32m----> 5\u001b[0m \u001b[38;5;28;01mfor\u001b[39;00m u \u001b[38;5;129;01min\u001b[39;00m \u001b[43mtqdm\u001b[49m(\u001b[38;5;28mrange\u001b[39m(users\u001b[38;5;241m.\u001b[39mshape[\u001b[38;5;241m0\u001b[39m]), desc\u001b[38;5;241m=\u001b[39m\u001b[38;5;124m\"\u001b[39m\u001b[38;5;124mCalculating HR@10 with candidates\u001b[39m\u001b[38;5;124m\"\u001b[39m, unit\u001b[38;5;241m=\u001b[39m\u001b[38;5;124m\"\u001b[39m\u001b[38;5;124mtest\u001b[39m\u001b[38;5;124m\"\u001b[39m):\n\u001b[0;32m      6\u001b[0m     \u001b[38;5;66;03m# Lấy các item thực tế đã được đánh giá bởi user u trong tập test\u001b[39;00m\n\u001b[0;32m      7\u001b[0m     items_tested \u001b[38;5;241m=\u001b[39m test_data[test_data[:, \u001b[38;5;241m0\u001b[39m] \u001b[38;5;241m==\u001b[39m u][:, \u001b[38;5;241m1\u001b[39m] \u001b[38;5;66;03m#Lấy danh sách các item đã được người dùng u đánh giá trong tập test\u001b[39;00m\n\u001b[0;32m      8\u001b[0m     items_tested \u001b[38;5;241m=\u001b[39m items_tested[np\u001b[38;5;241m.\u001b[39margsort(items_tested)[::\u001b[38;5;241m-\u001b[39m\u001b[38;5;241m1\u001b[39m][:\u001b[38;5;241m10\u001b[39m]] \u001b[38;5;66;03m# Sắp xếp và lấy top 10 ratings cao nhất trong tập item_tested\u001b[39;00m\n",
      "\u001b[1;31mNameError\u001b[0m: name 'tqdm' is not defined"
     ]
    }
   ],
   "source": [
    "def compute_hr_at_10(model, test_data, n_items):\n",
    "    hits = 0\n",
    "    users = np.unique(test_data[:, 0])  # Lấy tất cả user trong tập test\n",
    "    \n",
    "    for u in tqdm(range(users.shape[0]), desc=\"Calculating HR@10 with candidates\", unit=\"test\"):\n",
    "        # Lấy các item thực tế đã được đánh giá bởi user u trong tập test\n",
    "        items_tested = test_data[test_data[:, 0] == u][:, 1] #Lấy danh sách các item đã được người dùng u đánh giá trong tập test\n",
    "        items_tested = items_tested[np.argsort(items_tested)[::-1][:10]] # Sắp xếp và lấy top 10 ratings cao nhất trong tập item_tested\n",
    "        # top_10_test_items = items_tested[:10] #Lấy danh sách 10 item đầu tiên trong tập test\n",
    "        \n",
    "\n",
    "        rated_items = set(model.Y_data[model.Y_data[:, 0] == u][:, 1]) #Lấy danh sách các item đã được người dùng u đánh giá trong tập huấn luyện\n",
    "        unrated_items = [i for i in range(n_items) if i not in rated_items] #Lấy danh sách các item chưa được đánh giá bằng cách loại bỏ các item đã được đánh giá ra khỏi n_items\n",
    " \n",
    "        # Dự đoán rating cho các item chưa được đánh giá\n",
    "        predictions = [(i, model.pred(u, i)) for i in unrated_items] #Lấy danh sách các dự đoán rating cho các item chưa được đánh giá\n",
    "        predictions.sort(key=lambda x: x[1], reverse=True)  # Sắp xếp theo rating dự đoán giảm dần\n",
    "        \n",
    "        # Lấy Top-10 item được dự đoán\n",
    "        top_10_items = [item for item, _ in predictions[:10]]\n",
    "        \n",
    "        # Kiểm tra xem có item thực tế nằm trong Top-10 không\n",
    "        if any(item in top_10_items for item in items_tested):\n",
    "            hits += 1\n",
    "    \n",
    "    hr_at_10 = hits / len(users) # Tính HR@10 = số lần dự đoán đúng / tổng số user\n",
    "    return hr_at_10\n",
    "\n",
    "HR10 = compute_hr_at_10(rs, rate_test, rs.n_items) #Tính HR@10 cho Item-Item CF\n",
    "print(\"Item-item CF, HR@10 =\", HR10) #In ra kết quả HR@10 cho Item-Item CF"
   ]
  },
  {
   "cell_type": "code",
   "execution_count": 36,
   "metadata": {},
   "outputs": [
    {
     "name": "stdout",
     "output_type": "stream",
     "text": [
      "Item-item CF, NDCG@10 = 0.04221968365437769\n"
     ]
    }
   ],
   "source": [
    "def compute_ndcg_at_10(model, test_data, n_items):\n",
    "    def dcg_at_k(r, k):\n",
    "        r = np.asfarray(r)[:k]\n",
    "        if r.size:\n",
    "            return np.sum(r / np.log2(np.arange(2, r.size + 2)))\n",
    "        return 0.0\n",
    "\n",
    "    def ndcg_at_k(r, k):\n",
    "        dcg_max = dcg_at_k(sorted(r, reverse=True), k)\n",
    "        if not dcg_max:\n",
    "            return 0.0\n",
    "        return dcg_at_k(r, k) / dcg_max\n",
    "\n",
    "    ndcg_scores = []\n",
    "    users = np.unique(test_data[:, 0])  # Lấy tất cả user trong tập test\n",
    "    \n",
    "    for u in users:\n",
    "        # Lấy các item thực tế đã được đánh giá bởi user u trong tập test\n",
    "        items_tested = test_data[test_data[:, 0] == u][:, 1]\n",
    "        \n",
    "        # Lấy tất cả item mà user đã đánh giá\n",
    "        rated_items = set(model.Y_data[model.Y_data[:, 0] == u][:, 1])\n",
    "        unrated_items = [i for i in range(n_items) if i not in rated_items]\n",
    "\n",
    "        # Dự đoán rating cho các item chưa được đánh giá\n",
    "        predictions = [(i, model.pred(u, i)) for i in unrated_items]\n",
    "        predictions.sort(key=lambda x: x[1], reverse=True)  # Sắp xếp theo rating dự đoán giảm dần\n",
    "        \n",
    "        # Lấy Top-10 item được dự đoán\n",
    "        top_10_items = [item for item, _ in predictions[:10]]\n",
    "        \n",
    "        # Tạo danh sách relevance scores cho các item trong top-10\n",
    "        relevance_scores = [1 if item in items_tested else 0 for item in top_10_items]\n",
    "        \n",
    "        # Tính NDCG cho user u\n",
    "        ndcg = ndcg_at_k(relevance_scores, 10)\n",
    "        ndcg_scores.append(ndcg)\n",
    "    \n",
    "    avg_ndcg_at_10 = np.mean(ndcg_scores)\n",
    "    return avg_ndcg_at_10\n",
    "\n",
    "NDCG10 = compute_ndcg_at_10(rs, rate_test, rs.n_items)\n",
    "print(\"Item-item CF, NDCG@10 =\", NDCG10)"
   ]
  }
 ],
 "metadata": {
  "kernelspec": {
   "display_name": "Python 3",
   "language": "python",
   "name": "python3"
  },
  "language_info": {
   "codemirror_mode": {
    "name": "ipython",
    "version": 3
   },
   "file_extension": ".py",
   "mimetype": "text/x-python",
   "name": "python",
   "nbconvert_exporter": "python",
   "pygments_lexer": "ipython3",
   "version": "3.12.7"
  }
 },
 "nbformat": 4,
 "nbformat_minor": 2
}
